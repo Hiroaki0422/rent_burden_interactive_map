{
 "cells": [
  {
   "cell_type": "markdown",
   "id": "376744b6-fd86-42be-94c4-4c659c65693d",
   "metadata": {},
   "source": [
    "## Prepare Geojson Data"
   ]
  },
  {
   "cell_type": "code",
   "execution_count": 73,
   "id": "e52c8b02-0494-45d7-8471-2612013ba85e",
   "metadata": {},
   "outputs": [],
   "source": [
    "import pandas as pd\n",
    "import geojson"
   ]
  },
  {
   "cell_type": "code",
   "execution_count": 74,
   "id": "f82623f8-ea8b-443e-be2f-69d5e60ea8a3",
   "metadata": {},
   "outputs": [],
   "source": [
    "GEOJSON_PATH = 'datakind_housing_data/cleaned/county.geojson'"
   ]
  },
  {
   "cell_type": "code",
   "execution_count": 75,
   "id": "a2debf9c-81da-4882-b908-8ec848201543",
   "metadata": {},
   "outputs": [],
   "source": [
    "chas_data = pd.read_csv('datakind_housing_data/cleaned/chas_cost_burden.csv')"
   ]
  },
  {
   "cell_type": "code",
   "execution_count": 76,
   "id": "82120a4c-c9be-4ac9-bf7b-8b9260ba2ee1",
   "metadata": {},
   "outputs": [
    {
     "data": {
      "text/html": [
       "<div>\n",
       "<style scoped>\n",
       "    .dataframe tbody tr th:only-of-type {\n",
       "        vertical-align: middle;\n",
       "    }\n",
       "\n",
       "    .dataframe tbody tr th {\n",
       "        vertical-align: top;\n",
       "    }\n",
       "\n",
       "    .dataframe thead th {\n",
       "        text-align: right;\n",
       "    }\n",
       "</style>\n",
       "<table border=\"1\" class=\"dataframe\">\n",
       "  <thead>\n",
       "    <tr style=\"text-align: right;\">\n",
       "      <th></th>\n",
       "      <th>name</th>\n",
       "      <th>st</th>\n",
       "      <th>cnty</th>\n",
       "      <th>T8_est7</th>\n",
       "      <th>T8_est20</th>\n",
       "      <th>T8_est33</th>\n",
       "      <th>T8_est46</th>\n",
       "      <th>T8_est59</th>\n",
       "      <th>T8_est10</th>\n",
       "      <th>T8_est23</th>\n",
       "      <th>...</th>\n",
       "      <th>owned_no_record</th>\n",
       "      <th>rented_no_record</th>\n",
       "      <th>owned_population</th>\n",
       "      <th>rented_population</th>\n",
       "      <th>owned_total_burdend</th>\n",
       "      <th>rented_total_burdend</th>\n",
       "      <th>owned_burdend_percentile</th>\n",
       "      <th>rented_burdend_percentile</th>\n",
       "      <th>owned_severe_burdend_percentile</th>\n",
       "      <th>rented_severe_burdend_percentile</th>\n",
       "    </tr>\n",
       "  </thead>\n",
       "  <tbody>\n",
       "    <tr>\n",
       "      <th>1</th>\n",
       "      <td>Baldwin County, Alabama</td>\n",
       "      <td>1</td>\n",
       "      <td>3</td>\n",
       "      <td>945</td>\n",
       "      <td>1085</td>\n",
       "      <td>2710</td>\n",
       "      <td>835</td>\n",
       "      <td>1430</td>\n",
       "      <td>3410</td>\n",
       "      <td>1265</td>\n",
       "      <td>...</td>\n",
       "      <td>395</td>\n",
       "      <td>140</td>\n",
       "      <td>66845</td>\n",
       "      <td>19810</td>\n",
       "      <td>12375</td>\n",
       "      <td>7590</td>\n",
       "      <td>0.18513</td>\n",
       "      <td>0.38314</td>\n",
       "      <td>0.080335</td>\n",
       "      <td>0.172892</td>\n",
       "    </tr>\n",
       "  </tbody>\n",
       "</table>\n",
       "<p>1 rows × 51 columns</p>\n",
       "</div>"
      ],
      "text/plain": [
       "                      name  st  cnty  T8_est7  T8_est20  T8_est33  T8_est46  \\\n",
       "1  Baldwin County, Alabama   1     3      945      1085      2710       835   \n",
       "\n",
       "   T8_est59  T8_est10  T8_est23  ...  owned_no_record  rented_no_record  \\\n",
       "1      1430      3410      1265  ...              395               140   \n",
       "\n",
       "   owned_population  rented_population  owned_total_burdend  \\\n",
       "1             66845              19810                12375   \n",
       "\n",
       "   rented_total_burdend  owned_burdend_percentile  rented_burdend_percentile  \\\n",
       "1                  7590                   0.18513                    0.38314   \n",
       "\n",
       "   owned_severe_burdend_percentile  rented_severe_burdend_percentile  \n",
       "1                         0.080335                          0.172892  \n",
       "\n",
       "[1 rows x 51 columns]"
      ]
     },
     "execution_count": 76,
     "metadata": {},
     "output_type": "execute_result"
    }
   ],
   "source": [
    "chas_data[(chas_data['st'] == 1) & (chas_data['cnty'] == 3)]"
   ]
  },
  {
   "cell_type": "code",
   "execution_count": 77,
   "id": "6f23aa97-a907-419a-86b0-cd582b570e4a",
   "metadata": {},
   "outputs": [],
   "source": [
    "with open(GEOJSON_PATH) as f:\n",
    "    conty_gj = geojson.load(f)"
   ]
  },
  {
   "cell_type": "code",
   "execution_count": 78,
   "id": "8a04490d-75f9-464e-ba5b-a78391f6106c",
   "metadata": {},
   "outputs": [
    {
     "data": {
      "text/plain": [
       "dict_keys(['GEOID', 'FIPS_CODE', 'COUNTY_STATE_CODE', 'COUNTY_STATE_NAME'])"
      ]
     },
     "execution_count": 78,
     "metadata": {},
     "output_type": "execute_result"
    }
   ],
   "source": [
    "conty_gj['features'][0]['properties'].keys()"
   ]
  },
  {
   "cell_type": "code",
   "execution_count": 79,
   "id": "5b3b81b3-9518-4053-92f6-65a501a7fb17",
   "metadata": {},
   "outputs": [
    {
     "name": "stdout",
     "output_type": "stream",
     "text": [
      "{'GEOID': '78010', 'FIPS_CODE': '78-010', 'COUNTY_STATE_CODE': 'St. Croix, undefined', 'COUNTY_STATE_NAME': 'St. Croix, undefined'}\n",
      "{'GEOID': '78020', 'FIPS_CODE': '78-020', 'COUNTY_STATE_CODE': 'St. John, undefined', 'COUNTY_STATE_NAME': 'St. John, undefined'}\n",
      "{'GEOID': '78030', 'FIPS_CODE': '78-030', 'COUNTY_STATE_CODE': 'St. Thomas, undefined', 'COUNTY_STATE_NAME': 'St. Thomas, undefined'}\n",
      "{'GEOID': '02261', 'FIPS_CODE': '02-261', 'COUNTY_STATE_CODE': 'Valdez-Cordova, AK', 'COUNTY_STATE_NAME': 'Valdez-Cordova, Alaska'}\n"
     ]
    },
    {
     "data": {
      "text/plain": [
       "3213"
      ]
     },
     "execution_count": 79,
     "metadata": {},
     "output_type": "execute_result"
    }
   ],
   "source": [
    "counter = 0\n",
    "for i in range(len(conty_gj['features'])):\n",
    "    st = int(conty_gj['features'][i]['properties']['FIPS_CODE'][:2])\n",
    "    cty = int(conty_gj['features'][i]['properties']['FIPS_CODE'][-3:])\n",
    "    try:\n",
    "        county_data = chas_data[(chas_data['st'] == st) & (chas_data['cnty'] == cty)].iloc[0]\n",
    "        conty_gj['features'][i]['properties']['renter_population'] = str(county_data['rented_population'])\n",
    "        conty_gj['features'][i]['properties']['renter_burdend'] = str(county_data['rented_burdend_percentile'])\n",
    "        conty_gj['features'][i]['properties']['renter_severe_burdend'] = str(county_data['rented_severe_burdend_percentile'])\n",
    "        counter += 1\n",
    "    except Exception as e:\n",
    "        print(conty_gj['features'][i]['properties'])\n",
    "        \n",
    "counter"
   ]
  },
  {
   "cell_type": "code",
   "execution_count": 80,
   "id": "c77f06b0-b79e-4188-a1ef-14a03963f13a",
   "metadata": {},
   "outputs": [
    {
     "data": {
      "text/plain": [
       "array([ 13,  16,  20,  50,  60,  63,  66,  68,  70,  90, 100, 105, 110,\n",
       "       122, 130, 150, 158, 164, 170, 180, 185, 188, 195, 198, 220, 230,\n",
       "       240, 275, 282, 290])"
      ]
     },
     "execution_count": 80,
     "metadata": {},
     "output_type": "execute_result"
    }
   ],
   "source": [
    "chas_data[(chas_data['st'] == 2)]['cnty'].unique()"
   ]
  },
  {
   "cell_type": "code",
   "execution_count": 81,
   "id": "b307a07a-f35c-4340-91b0-8131a043e272",
   "metadata": {},
   "outputs": [
    {
     "data": {
      "text/plain": [
       "np.int64(72)"
      ]
     },
     "execution_count": 81,
     "metadata": {},
     "output_type": "execute_result"
    }
   ],
   "source": [
    "chas_data['st'].max()"
   ]
  },
  {
   "cell_type": "code",
   "execution_count": 84,
   "id": "0e2c2ec7-e68b-42c5-bd85-7e06c35a5bd2",
   "metadata": {},
   "outputs": [],
   "source": [
    "with open('datakind_housing_data/curated/county_renter_affordablity.geojson', 'w') as f:\n",
    "   geojson.dump(conty_gj, f)"
   ]
  },
  {
   "cell_type": "code",
   "execution_count": null,
   "id": "5934a7e4-8d60-44d7-8174-5118a971afb3",
   "metadata": {},
   "outputs": [],
   "source": []
  }
 ],
 "metadata": {
  "kernelspec": {
   "display_name": "Python 3 (ipykernel)",
   "language": "python",
   "name": "python3"
  },
  "language_info": {
   "codemirror_mode": {
    "name": "ipython",
    "version": 3
   },
   "file_extension": ".py",
   "mimetype": "text/x-python",
   "name": "python",
   "nbconvert_exporter": "python",
   "pygments_lexer": "ipython3",
   "version": "3.9.19"
  }
 },
 "nbformat": 4,
 "nbformat_minor": 5
}
